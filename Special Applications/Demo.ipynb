{
 "cells": [
  {
   "cell_type": "code",
   "execution_count": 1,
   "metadata": {
    "collapsed": true,
    "pycharm": {
     "name": "#%%\n"
    }
   },
   "outputs": [
    {
     "name": "stdout",
     "output_type": "stream",
     "text": [
      "Visualization with matplotlib is disabled.\n"
     ]
    }
   ],
   "source": [
    "from __future__ import absolute_import\n",
    "import numpy as np\n",
    "from mDAG_advanced import mDAG\n",
    "from hypergraphs import LabelledHypergraph\n",
    "from directed_structures import LabelledDirectedStructure\n",
    "import itertools"
   ]
  },
  {
   "cell_type": "code",
   "execution_count": 9,
   "outputs": [
    {
     "name": "stdout",
     "output_type": "stream",
     "text": [
      "Balloon: []\n",
      "{83855, 78991, 78989, 79004, 79006, 79021, 79023, 79036, 79038, 144781, 75149, 75151, 144783, 75181, 214415, 75164, 144796, 214430, 75166, 144798, 144813, 144815, 75183, 75196, 75198, 144828, 144830, 79501, 79503, 87695, 218767, 218780, 87693, 218765, 214925, 214927, 223117, 145293, 145295, 75661, 75663, 214942, 223132, 75676, 75678, 83868, 83870, 145310, 75693, 75695, 83885, 83887, 75708, 75710, 83900, 83902, 145308, 83853}\n"
     ]
    }
   ],
   "source": [
    "Reinforced_flag_ds=LabelledDirectedStructure(variable_names=[\"X\",\"A\",\"B\",\"C\"],\n",
    "                                  edge_list=[(\"X\",\"A\"), (\"X\",\"B\"), (\"A\",\"B\")])\n",
    "Reinforced_flag_sc=LabelledHypergraph(variable_names=[\"X\",\"A\",\"B\",\"C\"],\n",
    "                                  simplicial_complex=[(\"A\",\"C\"), (\"B\",\"C\")])\n",
    "Hotair_balloon_sc=LabelledHypergraph(variable_names=[\"X\",\"A\",\"B\",\"C\"],\n",
    "                                  simplicial_complex=[(\"A\",\"B\",\"C\")])\n",
    "Intermediate_sc=LabelledHypergraph(variable_names=[\"X\",\"A\",\"B\",\"C\"],\n",
    "                                  simplicial_complex=[(\"A\",\"C\"), (\"B\",\"C\"), (\"A\",\"B\")])\n",
    "Hotair_balloon_ds=LabelledDirectedStructure(variable_names=[\"X\",\"A\",\"B\",\"C\"],\n",
    "                                  edge_list=[(\"X\",\"A\"), (\"X\",\"B\"), (\"A\",\"B\")])\n",
    "Reinforced_flag_mDAG = mDAG(directed_structure_instance=Reinforced_flag_ds,\n",
    "               simplicial_complex_instance=Reinforced_flag_sc)\n",
    "Hotair_balloon_mDAG = mDAG(directed_structure_instance=Hotair_balloon_ds,\n",
    "               simplicial_complex_instance=Hotair_balloon_sc)\n",
    "Intermediate_mDAG = mDAG(directed_structure_instance=Hotair_balloon_ds,\n",
    "               simplicial_complex_instance=Intermediate_sc)\n",
    "print(\"Balloon:\", Hotair_balloon_mDAG.infeasible_binary_supports_n_events_beyond_esep_as_matrices(4))\n",
    "intermed_infeas = Intermediate_mDAG.infeasible_binary_supports_n_events_beyond_esep(6)\n",
    "flag_infeas = Reinforced_flag_mDAG.infeasible_binary_supports_n_events_beyond_esep(6)\n",
    "print(set(flag_infeas).difference(intermed_infeas))\n",
    "# print(\"Intermediate:\", intermed_infeas)\n",
    "# print(\"Reinforced_flag:\", intermed_infeas)"
   ],
   "metadata": {
    "collapsed": false,
    "pycharm": {
     "name": "#%%\n"
    }
   }
  },
  {
   "cell_type": "code",
   "execution_count": 2,
   "outputs": [
    {
     "name": "stdout",
     "output_type": "stream",
     "text": [
      "{X:[A],A:[B],B:[]}|[(A,B)]\n"
     ]
    }
   ],
   "source": [
    "IV_ds = LabelledDirectedStructure(variable_names=[\"X\",\"A\",\"B\"],\n",
    "                                  edge_list=[(\"X\",\"A\"), (\"A\",\"B\")])\n",
    "IV_sc = LabelledHypergraph(variable_names=[\"X\",\"A\",\"B\"],\n",
    "                           simplicial_complex=[(\"A\",\"B\")])\n",
    "IV_mDAG = mDAG(directed_structure_instance=IV_ds,\n",
    "               simplicial_complex_instance=IV_sc)\n",
    "\n",
    "UC_ds = LabelledDirectedStructure(variable_names=[\"X\",\"A\",\"B\"],\n",
    "                                  edge_list=[(\"A\",\"X\"), (\"A\",\"B\")])\n",
    "UC_sc = LabelledHypergraph(variable_names=[\"X\",\"A\",\"B\"],\n",
    "                           simplicial_complex=[(\"A\",\"X\"),(\"A\",\"B\")])\n",
    "UC_mDAG = mDAG(directed_structure_instance=UC_ds,\n",
    "               simplicial_complex_instance=UC_sc)\n",
    "\n",
    "print(IV_mDAG)"
   ],
   "metadata": {
    "collapsed": false,
    "pycharm": {
     "name": "#%%\n"
    }
   }
  },
  {
   "cell_type": "code",
   "execution_count": 3,
   "outputs": [
    {
     "name": "stdout",
     "output_type": "stream",
     "text": [
      "IV d_sep:  set()\n",
      "IV e_sep:  {(('B', 'X'), (), ('A',))}\n",
      "IV Skeleton:  14\n",
      "IV Skeleton:  [(A,B),(A,X)]\n",
      "IV Densely connected pairs:  {('A', 'X'), ('A', 'B'), ('B', 'X')}\n"
     ]
    }
   ],
   "source": [
    "print(\"IV d_sep: \", IV_mDAG.all_CI)\n",
    "print(\"IV e_sep: \", IV_mDAG.all_esep)\n",
    "print(\"IV Skeleton: \", IV_mDAG.skeleton)\n",
    "print(\"IV Skeleton: \", IV_mDAG.skeleton_instance.as_string)\n",
    "print(\"IV Densely connected pairs: \", IV_mDAG.all_densely_connected_pairs)"
   ],
   "metadata": {
    "collapsed": false,
    "pycharm": {
     "name": "#%%\n"
    }
   }
  },
  {
   "cell_type": "code",
   "execution_count": 4,
   "outputs": [
    {
     "name": "stdout",
     "output_type": "stream",
     "text": [
      "UC e_sep:  {(('B', 'X'), (), ('A',))}\n",
      "UC Densely connected pairs:  {('A', 'X'), ('A', 'B'), ('B', 'X')}\n",
      "Same e_sep:  True\n"
     ]
    }
   ],
   "source": [
    "print(\"UC e_sep: \", UC_mDAG.all_esep)\n",
    "print(\"UC Densely connected pairs: \", UC_mDAG.all_densely_connected_pairs)\n",
    "print(\"Same e_sep: \", IV_mDAG.all_esep == UC_mDAG.all_esep)"
   ],
   "metadata": {
    "collapsed": false,
    "pycharm": {
     "name": "#%%\n"
    }
   }
  },
  {
   "cell_type": "code",
   "execution_count": 5,
   "outputs": [
    {
     "name": "stdout",
     "output_type": "stream",
     "text": [
      "IV infeasible supports over 2 events:  [[[0 0 0]\n",
      "  [1 0 1]]]\n",
      "IV infeasible supports beyond e_sep over 2 events:  []\n",
      "No infeasible supports beyond e_sep over 2 events:  True\n",
      "UC infeasible supports beyond e-sep:  []\n",
      "IV infeasible supports beyond e-sep: \n",
      "[[0 0 0]\n",
      " [0 1 0]\n",
      " [1 0 1]]\n",
      "[[0 0 0]\n",
      " [0 1 1]\n",
      " [1 0 1]]\n",
      "[[0 0 0]\n",
      " [0 0 1]\n",
      " [0 1 0]\n",
      " [1 0 0]]\n",
      "[[0 0 0]\n",
      " [0 0 1]\n",
      " [0 1 0]\n",
      " [1 0 1]]\n",
      "[[0 0 0]\n",
      " [0 0 1]\n",
      " [0 1 0]\n",
      " [1 1 1]]\n",
      "[[0 0 0]\n",
      " [0 0 1]\n",
      " [0 1 1]\n",
      " [1 0 0]]\n",
      "[[0 0 0]\n",
      " [0 1 0]\n",
      " [0 1 1]\n",
      " [1 0 1]]\n",
      "[[0 0 0]\n",
      " [0 0 1]\n",
      " [0 1 0]\n",
      " [0 1 1]\n",
      " [1 0 0]]\n"
     ]
    }
   ],
   "source": [
    "\n",
    "print(\"IV infeasible supports over 2 events: \", IV_mDAG.infeasible_binary_supports_n_events_as_matrices(2))\n",
    "print(\"IV infeasible supports beyond e_sep over 2 events: \", IV_mDAG.infeasible_binary_supports_n_events_beyond_esep_as_matrices(2))\n",
    "print(\"No infeasible supports beyond e_sep over 2 events: \", IV_mDAG.no_infeasible_binary_supports_beyond_esep(2))\n",
    "\n",
    "print(\"UC infeasible supports beyond e-sep: \", UC_mDAG.infeasible_binary_supports_beyond_esep_as_matrices_up_to(7))\n",
    "print(\"IV infeasible supports beyond e-sep: \")\n",
    "for mat in IV_mDAG.infeasible_binary_supports_beyond_esep_as_matrices_up_to(7):\n",
    "    print(mat)\n"
   ],
   "metadata": {
    "collapsed": false,
    "pycharm": {
     "name": "#%%\n"
    }
   }
  },
  {
   "cell_type": "code",
   "execution_count": 6,
   "outputs": [
    {
     "name": "stdout",
     "output_type": "stream",
     "text": [
      "[[[0 0 0]\n",
      "  [0 1 0]\n",
      "  [1 0 1]]\n",
      "\n",
      " [[0 0 0]\n",
      "  [0 1 1]\n",
      "  [1 0 1]]]\n",
      "[]\n"
     ]
    }
   ],
   "source": [
    "print(IV_mDAG.infeasible_binary_supports_n_events_beyond_esep_as_matrices(3))\n",
    "print(UC_mDAG.infeasible_binary_supports_n_events_beyond_esep_as_matrices(3))\n"
   ],
   "metadata": {
    "collapsed": false,
    "pycharm": {
     "name": "#%%\n"
    }
   }
  },
  {
   "cell_type": "code",
   "execution_count": 7,
   "outputs": [
    {
     "name": "stdout",
     "output_type": "stream",
     "text": [
      "Same e_sep?  True\n"
     ]
    },
    {
     "name": "stderr",
     "output_type": "stream",
     "text": [
      "[nof_events=4] 1581 of 1581|################################| (Time:  0:00:03) \n",
      "[nof_events=4] 1581 of 1581|################################| (Time:  0:00:03) \n"
     ]
    },
    {
     "name": "stdout",
     "output_type": "stream",
     "text": [
      "Number of infeasible in strong mDAG:  917\n",
      "Number of infeasible in weak mDAG:  933\n",
      "Number of examples that differ:  16\n",
      "An example of a support in one but not the other:\n",
      "[[0 0 0 0 0]\n",
      " [0 0 1 1 0]\n",
      " [1 0 0 0 0]\n",
      " [1 1 0 1 0]]\n"
     ]
    }
   ],
   "source": [
    "#Example for Ilya\n",
    "ILYA_ds = LabelledDirectedStructure(\n",
    "    variable_names=[\"X\", \"A\", \"B\", \"C\", \"D\"],\n",
    "    edge_list=[(\"C\",\"A\"), (\"C\",\"B\"), (\"X\",\"C\"), (\"D\",\"A\"), (\"D\",\"B\")]\n",
    ")\n",
    "\n",
    "ILYA_sc1 = LabelledHypergraph(\n",
    "    variable_names=[\"X\", \"A\", \"B\", \"C\", \"D\"],\n",
    "    simplicial_complex=[(\"A\", \"X\", \"D\"), (\"B\", \"X\", \"D\"), (\"A\", \"C\")]\n",
    ")\n",
    "ILYA_sc2 = LabelledHypergraph(\n",
    "    variable_names=[\"X\", \"A\", \"B\", \"C\", \"D\"],\n",
    "    simplicial_complex=[(\"A\", \"X\", \"D\"), (\"B\", \"X\", \"D\")]\n",
    ")\n",
    "\n",
    "#Ilya's sc2 is weaker than sc1. Let's show that it matters.\n",
    "ILYA_mDAG1=mDAG(directed_structure_instance=ILYA_ds,\n",
    "                simplicial_complex_instance=ILYA_sc1)\n",
    "ILYA_mDAG2=mDAG(directed_structure_instance=ILYA_ds,\n",
    "                simplicial_complex_instance=ILYA_sc2)\n",
    "\n",
    "print(\"Same e_sep? \", ILYA_mDAG1.all_esep == ILYA_mDAG2.all_esep)\n",
    "\n",
    "strong_one_infeasible_supports=ILYA_mDAG1.infeasible_binary_supports_n_events_beyond_esep(4, verbose=True)\n",
    "weak_one_infeasible_supports=ILYA_mDAG2.infeasible_binary_supports_n_events_beyond_esep(4, verbose=True)\n",
    "\n",
    "supports_infeasible_only_in_weak = tuple(set(weak_one_infeasible_supports).difference(\n",
    "    strong_one_infeasible_supports))\n",
    "print(\"Number of infeasible in strong mDAG: \", len(strong_one_infeasible_supports))\n",
    "print(\"Number of infeasible in weak mDAG: \", len(weak_one_infeasible_supports))\n",
    "print(\"Number of examples that differ: \", len(supports_infeasible_only_in_weak))\n",
    "\n",
    "print(\"An example of a support in one but not the other:\")\n",
    "print(ILYA_mDAG2.support_testing_instance_binary(4).from_integer_to_matrix(\n",
    "    supports_infeasible_only_in_weak[0]\n",
    "))"
   ],
   "metadata": {
    "collapsed": false,
    "pycharm": {
     "name": "#%%\n"
    }
   }
  },
  {
   "cell_type": "code",
   "execution_count": 8,
   "outputs": [
    {
     "name": "stdout",
     "output_type": "stream",
     "text": [
      "{('A', 'X'), ('B', 'C'), ('C', 'X'), ('A', 'C'), ('A', 'D'), ('D', 'X'), ('B', 'D'), ('A', 'B'), ('B', 'X')}\n",
      "{('A', 'X'), ('B', 'C'), ('C', 'X'), ('A', 'C'), ('A', 'D'), ('D', 'X'), ('B', 'D'), ('A', 'B'), ('B', 'X')}\n"
     ]
    }
   ],
   "source": [
    "#I suppose one might want to figure out all the mDAGs which are equivalent to a given mDAG.\n",
    "# At the moment this is not implemented.\n",
    "print(ILYA_mDAG1.all_densely_connected_pairs)\n",
    "print(ILYA_mDAG2.all_densely_connected_pairs)"
   ],
   "metadata": {
    "collapsed": false,
    "pycharm": {
     "name": "#%%\n"
    }
   }
  },
  {
   "cell_type": "code",
   "execution_count": 9,
   "outputs": [
    {
     "data": {
      "text/plain": "9"
     },
     "execution_count": 9,
     "metadata": {},
     "output_type": "execute_result"
    }
   ],
   "source": [
    "len(ILYA_mDAG2.all_densely_connected_pairs)"
   ],
   "metadata": {
    "collapsed": false,
    "pycharm": {
     "name": "#%%\n"
    }
   }
  },
  {
   "cell_type": "code",
   "execution_count": 14,
   "outputs": [
    {
     "name": "stdout",
     "output_type": "stream",
     "text": [
      "Testing  2  event supports:\n",
      "No infeasible beyond esep?:  True\n",
      "Testing  3  event supports:\n",
      "No infeasible beyond esep?:  True\n",
      "Testing  4  event supports:\n",
      "No infeasible beyond esep?:  True\n"
     ]
    }
   ],
   "source": [
    "for n in range(2,5):\n",
    "    print(\"Testing \",n,\" event supports:\")\n",
    "    print(\"No infeasible beyond esep?: \",\n",
    "          UC_mDAG.support_testing_instance((4,4,4),n).no_infeasible_supports_beyond_esep(verbose=True))"
   ],
   "metadata": {
    "collapsed": false,
    "pycharm": {
     "name": "#%%\n"
    }
   }
  },
  {
   "cell_type": "code",
   "execution_count": null,
   "outputs": [],
   "source": [],
   "metadata": {
    "collapsed": false,
    "pycharm": {
     "name": "#%%\n"
    }
   }
  }
 ],
 "metadata": {
  "kernelspec": {
   "name": "idp2",
   "language": "python",
   "display_name": "idp2"
  },
  "language_info": {
   "codemirror_mode": {
    "name": "ipython",
    "version": 2
   },
   "file_extension": ".py",
   "mimetype": "text/x-python",
   "name": "python",
   "nbconvert_exporter": "python",
   "pygments_lexer": "ipython2",
   "version": "2.7.6"
  }
 },
 "nbformat": 4,
 "nbformat_minor": 0
}